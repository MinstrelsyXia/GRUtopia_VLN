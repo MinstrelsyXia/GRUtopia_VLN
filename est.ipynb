{
 "cells": [
  {
   "cell_type": "code",
   "execution_count": 2,
   "metadata": {},
   "outputs": [
    {
     "name": "stdout",
     "output_type": "stream",
     "text": [
      "[[193.98966547363398, 0, 112.0], [0, 265.8496246108771, 112.0], [0, 0, 1]]\n"
     ]
    }
   ],
   "source": [
    "# 给定参数\n",
    "cameraAperture = [20.955, 15.2908]  # 单位: 毫米\n",
    "cameraApertureOffset = [0.0, 0.0]   # 单位: 像素\n",
    "cameraFocalLength = 18.14756        # 单位: 毫米\n",
    "\n",
    "imageWidth = 224    # 单位: 像素\n",
    "imageHeight = 224   # 单位: 像素\n",
    "\n",
    "# 计算 f_x 和 f_y\n",
    "f_x = (cameraFocalLength * imageWidth) / cameraAperture[0]\n",
    "f_y = (cameraFocalLength * imageHeight) / cameraAperture[1]\n",
    "\n",
    "# 计算 c_x 和 c_y\n",
    "c_x = imageWidth / 2 + cameraApertureOffset[0]\n",
    "c_y = imageHeight / 2 + cameraApertureOffset[1]\n",
    "\n",
    "# 生成内参矩阵 K\n",
    "K = [\n",
    "    [f_x, 0,   c_x],\n",
    "    [0,   f_y, c_y],\n",
    "    [0,   0,   1  ]\n",
    "]\n",
    "\n",
    "print(K)\n"
   ]
  },
  {
   "cell_type": "code",
   "execution_count": 3,
   "metadata": {},
   "outputs": [
    {
     "data": {
      "text/plain": [
       "array([[193.98966547,   0.        , 112.        ],\n",
       "       [  0.        , 193.98966547, 112.        ],\n",
       "       [  0.        ,   0.        ,   1.        ]])"
      ]
     },
     "execution_count": 3,
     "metadata": {},
     "output_type": "execute_result"
    }
   ],
   "source": [
    "\n",
    "import numpy as np\n",
    "def get_intrinsic_matrix():\n",
    "\n",
    "    width, height = 224 , 224\n",
    "    horiz_aperture , vert_aperture = 20.955, 15.2908\n",
    "    focal_length = 18.14756\n",
    "    # Pixels are square so we can do:\n",
    "    vert_aperture = height / width * horiz_aperture\n",
    "\n",
    "    # Compute focal point and center\n",
    "    focal_x = width * focal_length / horiz_aperture\n",
    "    focal_y = height * focal_length / vert_aperture\n",
    "    center_x = width * 0.5\n",
    "    center_y = height * 0.5\n",
    "    \n",
    "    # Turn into matrix\n",
    "    intrinsic_matrix = np.array([[focal_x, 0, center_x],\n",
    "                                 [0, focal_y, center_y],\n",
    "                                 [0, 0, 1]])\n",
    "    \n",
    "    return intrinsic_matrix\n",
    "\n",
    "get_intrinsic_matrix()"
   ]
  }
 ],
 "metadata": {
  "kernelspec": {
   "display_name": "isaacsim",
   "language": "python",
   "name": "python3"
  },
  "language_info": {
   "codemirror_mode": {
    "name": "ipython",
    "version": 3
   },
   "file_extension": ".py",
   "mimetype": "text/x-python",
   "name": "python",
   "nbconvert_exporter": "python",
   "pygments_lexer": "ipython3",
   "version": "3.10.14"
  }
 },
 "nbformat": 4,
 "nbformat_minor": 2
}
