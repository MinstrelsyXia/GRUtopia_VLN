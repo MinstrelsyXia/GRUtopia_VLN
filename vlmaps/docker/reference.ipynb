{
 "cells": [
  {
   "cell_type": "code",
   "execution_count": null,
   "metadata": {
    "vscode": {
     "languageId": "dockerfile"
    }
   },
   "outputs": [],
   "source": [
    "cd PATH/TO/GRUTOPIA/ROOT\n",
    "export CACHE_ROOT=/ssd/wangliuyi/docker  # 设置缓存路径\n",
    "export WEBUI_HOST=127.0.0.1  # 设置 Web UI 监听地址，默认为 127.0.0.1\n",
    "\n",
    "sudo docker run --name w61_grutopia -it --rm --gpus '\"device=0\"' --network host \\\n",
    "    -e \"ACCEPT_EULA=Y\" \\\n",
    "    -e \"PRIVACY_CONSENT=Y\" \\\n",
    "    -e \"WEBUI_HOST=${WEBUI_HOST}\" \\\n",
    "    -v ${PWD}/isaac-sim/GRUtopia \\\n",
    "    -v ${CACHE_ROOT}/isaac-sim/cache/kit:/isaac-sim/kit/cache:rw \\\n",
    "    -v ${CACHE_ROOT}/isaac-sim/cache/ov:/root/.cache/ov:rw \\\n",
    "    -v ${CACHE_ROOT}/isaac-sim/cache/pip:/root/.cache/pip:rw \\\n",
    "    -v ${CACHE_ROOT}/isaac-sim/cache/glcache:/root/.cache/nvidia/GLCache:rw \\\n",
    "    -v ${CACHE_ROOT}/isaac-sim/cache/computecache:/root/.nv/ComputeCache:rw \\\n",
    "    -v ${CACHE_ROOT}/isaac-sim/logs:/root/.nvidia-omniverse/logs:rw \\\n",
    "    -v ${CACHE_ROOT}/isaac-sim/data:/root/.local/share/ov/data:rw \\\n",
    "    -v ${CACHE_ROOT}/isaac-sim/documents:/root/Documents:rw \\\n",
    "    -v /ssd/share/Matterport3D:/root/code/Matterport3D:rw \\\n",
    "    -v /ssd/share/VLN/VLNCE/R2R_VLNCE_v1-3:/root/code/VLN/VLNCE/R2R_VLNCE_v1-3:rw \\\n",
    "    grutopia:0.0.1\n"
   ]
  },
  {
   "cell_type": "code",
   "execution_count": null,
   "metadata": {
    "vscode": {
     "languageId": "dockerfile"
    }
   },
   "outputs": [],
   "source": []
  }
 ],
 "metadata": {
  "language_info": {
   "name": "python"
  }
 },
 "nbformat": 4,
 "nbformat_minor": 2
}
