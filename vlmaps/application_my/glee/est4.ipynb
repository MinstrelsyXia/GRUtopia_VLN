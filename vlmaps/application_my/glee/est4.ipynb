{
 "cells": [
  {
   "cell_type": "markdown",
   "metadata": {},
   "source": [
    "# test GLEE\n"
   ]
  },
  {
   "cell_type": "code",
   "execution_count": 1,
   "metadata": {},
   "outputs": [
    {
     "name": "stdout",
     "output_type": "stream",
     "text": [
      "['', '/home/xiaxinyuan/.conda/envs/isaacsim/lib/python3.10/site-packages', '/ssd/xiaxinyuan/code/w61-grutopia/vlmaps/application_my/glee', '/home/xiaxinyuan/.conda/envs/isaacsim/lib/python310.zip', '/home/xiaxinyuan/.conda/envs/isaacsim/lib/python3.10', '/home/xiaxinyuan/.conda/envs/isaacsim/lib/python3.10/lib-dynload', '/home/xiaxinyuan/.local/lib/python3.10/site-packages', '__editable__.omni_isaac_lab-0.22.1.finder.__path_hook__', '__editable__.omni_isaac_lab_assets-0.1.3.finder.__path_hook__', '__editable__.omni_isaac_lab_tasks-0.10.0.finder.__path_hook__', '/ssd/xiaxinyuan/code/w61-grutopia', '/home/xiaxinyuan/.conda/envs/isaacsim/lib/python3.10/site-packages/setuptools/_vendor', '/ssd/xiaxinyuan/code/w61-grutopia/vlmaps/vlmaps/GLEE']\n"
     ]
    }
   ],
   "source": [
    "import sys\n",
    "sys.path.append('/ssd/xiaxinyuan/code/w61-grutopia/vlmaps/vlmaps/GLEE')\n",
    "print(sys.path)"
   ]
  },
  {
   "cell_type": "code",
   "execution_count": 2,
   "metadata": {},
   "outputs": [],
   "source": [
    "import cv2\n",
    "import matplotlib.pyplot as plt\n",
    "def display_image_in_notebook(image_path):\n",
    "    # 读取图像\n",
    "    image = cv2.imread(image_path)\n",
    "    \n",
    "    # 检查图像是否成功读取\n",
    "    if image is None:\n",
    "        print(f\"Failed to load image from {image_path}\")\n",
    "        return\n",
    "    \n",
    "    # 将图像从 BGR 转换为 RGB\n",
    "    image_rgb = cv2.cvtColor(image, cv2.COLOR_BGR2RGB)\n",
    "    \n",
    "    # 在 Jupyter Notebook 中显示图像\n",
    "    plt.imshow(image_rgb)\n",
    "    plt.axis('off')  # 关闭坐标轴\n",
    "    plt.show()"
   ]
  },
  {
   "cell_type": "code",
   "execution_count": 3,
   "metadata": {},
   "outputs": [
    {
     "name": "stderr",
     "output_type": "stream",
     "text": [
      "/ssd/xiaxinyuan/code/w61-grutopia/vlmaps/vlmaps/GLEE/glee/models/pixel_decoder/maskdino_encoder.py:383: FutureWarning: `torch.cuda.amp.autocast(args...)` is deprecated. Please use `torch.amp.autocast('cuda', args...)` instead.\n",
      "  @autocast(enabled=False)\n",
      "/ssd/xiaxinyuan/code/w61-grutopia/vlmaps/vlmaps/GLEE/glee/models/transformer_decoder/dino_decoder.py:249: FutureWarning: `torch.cuda.amp.autocast(args...)` is deprecated. Please use `torch.amp.autocast('cuda', args...)` instead.\n",
      "  @autocast(enabled=False)\n",
      "/ssd/xiaxinyuan/code/w61-grutopia/vlmaps/application_my/glee/glee_detector.py:35: FutureWarning: You are using `torch.load` with `weights_only=False` (the current default value), which uses the default pickle module implicitly. It is possible to construct malicious pickle data which will execute arbitrary code during unpickling (See https://github.com/pytorch/pytorch/blob/main/SECURITY.md#untrusted-models for more details). In a future release, the default value for `weights_only` will be flipped to `True`. This limits the functions that could be executed during unpickling. Arbitrary objects will no longer be allowed to be loaded via this mode unless they are explicitly allowlisted by the user via `torch.serialization.add_safe_globals`. We recommend you start setting `weights_only=True` for any use case where you don't have full control of the loaded file. Please open an issue on GitHub for any issues related to this experimental feature.\n",
      "  checkpoints_swin = torch.load(glee_checkpoint)\n",
      "[ WARN:0@4.084] global loadsave.cpp:241 findDecoder imread_('logs/sample_episodes_safe/s8pcmisQ38h/id_37/rgb/pano_camera_0_image_step_269.png'): can't open/read file: check file path/integrity\n"
     ]
    },
    {
     "ename": "FileNotFoundError",
     "evalue": "[Errno 2] No such file or directory: 'GLEE/weights/GLEE_SwinL_Scaleup10m.pth'",
     "output_type": "error",
     "traceback": [
      "\u001b[0;31m---------------------------------------------------------------------------\u001b[0m",
      "\u001b[0;31mFileNotFoundError\u001b[0m                         Traceback (most recent call last)",
      "Cell \u001b[0;32mIn[3], line 4\u001b[0m\n\u001b[1;32m      2\u001b[0m img_file \u001b[38;5;241m=\u001b[39m \u001b[38;5;124m\"\u001b[39m\u001b[38;5;124mlogs/sample_episodes_safe/s8pcmisQ38h/id_37/rgb/pano_camera_0_image_step_269.png\u001b[39m\u001b[38;5;124m\"\u001b[39m\n\u001b[1;32m      3\u001b[0m img \u001b[38;5;241m=\u001b[39m cv2\u001b[38;5;241m.\u001b[39mimread(img_file)\n\u001b[0;32m----> 4\u001b[0m model \u001b[38;5;241m=\u001b[39m \u001b[43minitialize_glee\u001b[49m\u001b[43m(\u001b[49m\u001b[43m)\u001b[49m\n\u001b[1;32m      5\u001b[0m bbox_pred, mask_pred, classes, scores \u001b[38;5;241m=\u001b[39m glee_segmentation(img, model)\n\u001b[1;32m      7\u001b[0m seg \u001b[38;5;241m=\u001b[39m visualize_segmentation(img, classes, mask_pred)\n",
      "File \u001b[0;32m/ssd/xiaxinyuan/code/w61-grutopia/vlmaps/application_my/glee/glee_detector.py:35\u001b[0m, in \u001b[0;36minitialize_glee\u001b[0;34m(glee_config, glee_checkpoint, device)\u001b[0m\n\u001b[1;32m     33\u001b[0m add_glee_config(cfg_swin)\n\u001b[1;32m     34\u001b[0m conf_files_swin \u001b[38;5;241m=\u001b[39m glee_config\n\u001b[0;32m---> 35\u001b[0m checkpoints_swin \u001b[38;5;241m=\u001b[39m \u001b[43mtorch\u001b[49m\u001b[38;5;241;43m.\u001b[39;49m\u001b[43mload\u001b[49m\u001b[43m(\u001b[49m\u001b[43mglee_checkpoint\u001b[49m\u001b[43m)\u001b[49m \n\u001b[1;32m     36\u001b[0m cfg_swin\u001b[38;5;241m.\u001b[39mmerge_from_file(conf_files_swin)\n\u001b[1;32m     37\u001b[0m GLEEmodel_swin \u001b[38;5;241m=\u001b[39m GLEE_Model(cfg_swin, \u001b[38;5;28;01mNone\u001b[39;00m, device, \u001b[38;5;28;01mNone\u001b[39;00m, \u001b[38;5;28;01mTrue\u001b[39;00m)\u001b[38;5;241m.\u001b[39mto(device)\n",
      "File \u001b[0;32m~/.conda/envs/isaacsim/lib/python3.10/site-packages/torch/serialization.py:1319\u001b[0m, in \u001b[0;36mload\u001b[0;34m(f, map_location, pickle_module, weights_only, mmap, **pickle_load_args)\u001b[0m\n\u001b[1;32m   1316\u001b[0m \u001b[38;5;28;01mif\u001b[39;00m \u001b[38;5;124m\"\u001b[39m\u001b[38;5;124mencoding\u001b[39m\u001b[38;5;124m\"\u001b[39m \u001b[38;5;129;01mnot\u001b[39;00m \u001b[38;5;129;01min\u001b[39;00m pickle_load_args\u001b[38;5;241m.\u001b[39mkeys():\n\u001b[1;32m   1317\u001b[0m     pickle_load_args[\u001b[38;5;124m\"\u001b[39m\u001b[38;5;124mencoding\u001b[39m\u001b[38;5;124m\"\u001b[39m] \u001b[38;5;241m=\u001b[39m \u001b[38;5;124m\"\u001b[39m\u001b[38;5;124mutf-8\u001b[39m\u001b[38;5;124m\"\u001b[39m\n\u001b[0;32m-> 1319\u001b[0m \u001b[38;5;28;01mwith\u001b[39;00m \u001b[43m_open_file_like\u001b[49m\u001b[43m(\u001b[49m\u001b[43mf\u001b[49m\u001b[43m,\u001b[49m\u001b[43m \u001b[49m\u001b[38;5;124;43m\"\u001b[39;49m\u001b[38;5;124;43mrb\u001b[39;49m\u001b[38;5;124;43m\"\u001b[39;49m\u001b[43m)\u001b[49m \u001b[38;5;28;01mas\u001b[39;00m opened_file:\n\u001b[1;32m   1320\u001b[0m     \u001b[38;5;28;01mif\u001b[39;00m _is_zipfile(opened_file):\n\u001b[1;32m   1321\u001b[0m         \u001b[38;5;66;03m# The zipfile reader is going to advance the current file position.\u001b[39;00m\n\u001b[1;32m   1322\u001b[0m         \u001b[38;5;66;03m# If we want to actually tail call to torch.jit.load, we need to\u001b[39;00m\n\u001b[1;32m   1323\u001b[0m         \u001b[38;5;66;03m# reset back to the original position.\u001b[39;00m\n\u001b[1;32m   1324\u001b[0m         orig_position \u001b[38;5;241m=\u001b[39m opened_file\u001b[38;5;241m.\u001b[39mtell()\n",
      "File \u001b[0;32m~/.conda/envs/isaacsim/lib/python3.10/site-packages/torch/serialization.py:659\u001b[0m, in \u001b[0;36m_open_file_like\u001b[0;34m(name_or_buffer, mode)\u001b[0m\n\u001b[1;32m    657\u001b[0m \u001b[38;5;28;01mdef\u001b[39;00m \u001b[38;5;21m_open_file_like\u001b[39m(name_or_buffer, mode):\n\u001b[1;32m    658\u001b[0m     \u001b[38;5;28;01mif\u001b[39;00m _is_path(name_or_buffer):\n\u001b[0;32m--> 659\u001b[0m         \u001b[38;5;28;01mreturn\u001b[39;00m \u001b[43m_open_file\u001b[49m\u001b[43m(\u001b[49m\u001b[43mname_or_buffer\u001b[49m\u001b[43m,\u001b[49m\u001b[43m \u001b[49m\u001b[43mmode\u001b[49m\u001b[43m)\u001b[49m\n\u001b[1;32m    660\u001b[0m     \u001b[38;5;28;01melse\u001b[39;00m:\n\u001b[1;32m    661\u001b[0m         \u001b[38;5;28;01mif\u001b[39;00m \u001b[38;5;124m\"\u001b[39m\u001b[38;5;124mw\u001b[39m\u001b[38;5;124m\"\u001b[39m \u001b[38;5;129;01min\u001b[39;00m mode:\n",
      "File \u001b[0;32m~/.conda/envs/isaacsim/lib/python3.10/site-packages/torch/serialization.py:640\u001b[0m, in \u001b[0;36m_open_file.__init__\u001b[0;34m(self, name, mode)\u001b[0m\n\u001b[1;32m    639\u001b[0m \u001b[38;5;28;01mdef\u001b[39;00m \u001b[38;5;21m__init__\u001b[39m(\u001b[38;5;28mself\u001b[39m, name, mode):\n\u001b[0;32m--> 640\u001b[0m     \u001b[38;5;28msuper\u001b[39m()\u001b[38;5;241m.\u001b[39m\u001b[38;5;21m__init__\u001b[39m(\u001b[38;5;28;43mopen\u001b[39;49m\u001b[43m(\u001b[49m\u001b[43mname\u001b[49m\u001b[43m,\u001b[49m\u001b[43m \u001b[49m\u001b[43mmode\u001b[49m\u001b[43m)\u001b[49m)\n",
      "\u001b[0;31mFileNotFoundError\u001b[0m: [Errno 2] No such file or directory: 'GLEE/weights/GLEE_SwinL_Scaleup10m.pth'"
     ]
    }
   ],
   "source": [
    "from vlmaps.application_my.glee.glee_detector import initialize_glee, glee_segmentation, visualize_segmentation, visualize_detection\n",
    "img_file = \"logs/sample_episodes_safe/s8pcmisQ38h/id_37/rgb/pano_camera_0_image_step_269.png\"\n",
    "img = cv2.imread(img_file)\n",
    "model = initialize_glee()\n",
    "bbox_pred, mask_pred, classes, scores = glee_segmentation(img, model)\n",
    "\n",
    "seg = visualize_segmentation(img, classes, mask_pred)\n",
    "det = visualize_detection(img, classes, bbox_pred)\n",
    "\n",
    "display_image_in_notebook(seg)\n",
    "display_image_in_notebook(det)\n"
   ]
  },
  {
   "cell_type": "code",
   "execution_count": null,
   "metadata": {},
   "outputs": [],
   "source": [
    "# inference: output the feature of each pixel\n",
    "\n",
    "\n",
    "\n"
   ]
  },
  {
   "cell_type": "code",
   "execution_count": null,
   "metadata": {},
   "outputs": [],
   "source": [
    "# index: query the feature of each pixel with the index\n",
    "# refer to vlmaps.vlmaps.utils.clip_utils:\n",
    "scores_mat = get_lseg_score(\n",
    "        self.clip_model,\n",
    "        [language_desc],\n",
    "        self.grid_feat,\n",
    "        self.clip_feat_dim,\n",
    "        use_multiple_templates=True,\n",
    "        add_other=True,\n",
    "    ) \n",
    "\n",
    "def get_lseg_score(\n",
    "    clip_model,\n",
    "    landmarks: list,\n",
    "    lseg_map: np.array,\n",
    "    clip_feat_dim: int,\n",
    "    use_multiple_templates: bool = False,\n",
    "    avg_mode: int = 0,\n",
    "    add_other=True,\n",
    "):\n",
    "    \"\"\"\n",
    "    Inputs:\n",
    "        landmarks: a list of strings that describe the landmarks\n",
    "        lseg_map: a numpy array with shape (h, w, clip_dim) or (N, clip_dim)\n",
    "        avg_mode: this is for multiple template. 0 for averaging features, 1 for averaging scores\n",
    "    Return:\n",
    "        scores_list: (h, w, class_num) storing the score for each location for each class\n",
    "    \"\"\"\n",
    "    if lseg_map is None:\n",
    "        print(\"lseg_map is empty\")\n",
    "        return np.zeros((2,clip_feat_dim)) # (map_size.flatten(),clip_feat_dim)\n",
    "    landmarks_other = landmarks\n",
    "    if add_other and landmarks_other[-1] != \"other\":\n",
    "        landmarks_other = landmarks + [\"other\"]\n",
    "\n",
    "    if use_multiple_templates:\n",
    "        mul_tmp = multiple_templates.copy()\n",
    "        multi_temp_landmarks_other = [x.format(lm) for lm in landmarks_other for x in mul_tmp]\n",
    "        text_feats = get_text_feats(multi_temp_landmarks_other, clip_model, clip_feat_dim)\n",
    "\n",
    "        # average the features\n",
    "        if avg_mode == 0:\n",
    "            text_feats = text_feats.reshape((-1, len(mul_tmp), text_feats.shape[-1]))\n",
    "            text_feats = np.mean(text_feats, axis=1)\n",
    "\n",
    "        map_feats = lseg_map.reshape((-1, lseg_map.shape[-1]))\n",
    "        map_feats = map_feats / np.linalg.norm(map_feats, axis=1, keepdims=True)\n",
    "        scores_list = map_feats @ text_feats.T\n",
    "\n",
    "        # average the features\n",
    "        if avg_mode == 1:\n",
    "            scores_list = scores_list.reshape((-1, len(landmarks_other), len(mul_tmp)))\n",
    "            scores_list = np.mean(scores_list, axis=2)\n",
    "    else:\n",
    "        text_feats = get_text_feats(landmarks_other, clip_model, clip_feat_dim)\n",
    "\n",
    "        map_feats = lseg_map.reshape((-1, lseg_map.shape[-1]))\n",
    "\n",
    "        map_feats = map_feats / np.linalg.norm(map_feats, axis=1, keepdims=True)\n",
    "        scores_list = map_feats @ text_feats.T            \n",
    "        \n",
    "\n",
    "    return scores_list\n",
    "\n",
    "\n",
    "pix_feats, pix_mask = get_glee_feat(\n",
    "    self.glee_model,\n",
    "    rgb,\n",
    "    labels,\n",
    "    self.glee_transform,\n",
    "    self.device,\n",
    "    self.crop_size,\n",
    "    self.base_size,\n",
    "    self.norm_mean,\n",
    "    self.norm_std,\n",
    "    vis = True,\n",
    "    save_path = self.segmentation_dir + f\"/{step}.jpg\"\n",
    ")\n",
    "# pix_feats: [1,feat,h,w]; pix_mask:[480,640](segmentation result)\n"
   ]
  }
 ],
 "metadata": {
  "kernelspec": {
   "display_name": "isaacsim",
   "language": "python",
   "name": "python3"
  },
  "language_info": {
   "codemirror_mode": {
    "name": "ipython",
    "version": 3
   },
   "file_extension": ".py",
   "mimetype": "text/x-python",
   "name": "python",
   "nbconvert_exporter": "python",
   "pygments_lexer": "ipython3",
   "version": "3.10.14"
  }
 },
 "nbformat": 4,
 "nbformat_minor": 2
}
